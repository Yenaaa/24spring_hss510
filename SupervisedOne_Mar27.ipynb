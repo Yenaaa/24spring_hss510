{
  "nbformat": 4,
  "nbformat_minor": 0,
  "metadata": {
    "colab": {
      "provenance": [],
      "machine_shape": "hm",
      "include_colab_link": true
    },
    "kernelspec": {
      "name": "python3",
      "display_name": "Python 3"
    },
    "accelerator": "GPU"
  },
  "cells": [
    {
      "cell_type": "markdown",
      "metadata": {
        "id": "view-in-github",
        "colab_type": "text"
      },
      "source": [
        "<a href=\"https://colab.research.google.com/github/Yenaaa/24spring_hss510/blob/main/SupervisedOne_Mar27.ipynb\" target=\"_parent\"><img src=\"https://colab.research.google.com/assets/colab-badge.svg\" alt=\"Open In Colab\"/></a>"
      ]
    },
    {
      "cell_type": "markdown",
      "metadata": {
        "id": "xjB3FOyEEbfm"
      },
      "source": [
        "## **HSS 510 Guided Coding: Text Classificaiton with Supervised Learning**\n",
        "\n",
        "### **2024 Mar 26, Taegyoon Kim**\n",
        "\n",
        "\n",
        "---\n",
        "\n"
      ]
    },
    {
      "cell_type": "markdown",
      "source": [
        "### **Logistic Regression with Count Vector**\n",
        "\n",
        "* The following demonstrates a typical workflow for binary text classification using logistic regression\n",
        "\n",
        "* It will walk though 1) a simple train-test split approach 2) a train-validation-split appoach to compare different regularization methods, and 3) cross-validation"
      ],
      "metadata": {
        "id": "nYus9zjAOLVD"
      }
    },
    {
      "cell_type": "markdown",
      "source": [
        "### **Load packages**"
      ],
      "metadata": {
        "id": "ynhcrkzxOCEw"
      }
    },
    {
      "cell_type": "code",
      "metadata": {
        "id": "IOfXYk2GN19z"
      },
      "source": [
        "import pandas as pd\n",
        "import numpy as np\n",
        "\n",
        "from sklearn.linear_model import LogisticRegression\n",
        "\n",
        "from sklearn.feature_extraction.text import TfidfVectorizer\n",
        "from sklearn.pipeline import Pipeline\n",
        "\n",
        "from sklearn.model_selection import train_test_split, cross_val_score, KFold\n",
        "from sklearn.metrics import classification_report, confusion_matrix, precision_score, recall_score, f1_score, accuracy_score"
      ],
      "execution_count": null,
      "outputs": []
    },
    {
      "cell_type": "markdown",
      "metadata": {
        "id": "Q8YypKtlW9cy"
      },
      "source": [
        "### **IMDB Reviews Data**\n",
        "\n",
        "- We wil use a random sample of 10,000 IMDB commments (from Kaggle: https://www.kaggle.com/datasets/lakshmi25npathi/imdb-dataset-of-50k-movie-reviews/suggestions?status=pending&yourSuggestions=true)\n",
        "- For the sake of time, we will generate an even smaller sample of 1,000 comments"
      ]
    },
    {
      "cell_type": "code",
      "metadata": {
        "id": "WtBCLaSpOCM-",
        "colab": {
          "base_uri": "https://localhost:8080/"
        },
        "outputId": "7111bd1c-519e-43ed-e5b5-ab7d06a827a6"
      },
      "source": [
        "### Load and examine dataset\n",
        "\n",
        "file_path = 'https://raw.githubusercontent.com/taegyoon-kim/nlp_dhcss_24spring/main/week_04/imdb_rs_10k.csv'\n",
        "df_review_10k = pd.read_csv(file_path)\n",
        "\n",
        "df_review = df_review_10k.sample(frac = 0.2).reset_index(drop = True) # random sample of 2k comments\n",
        "df_review['sentiment'] = np.where(df_review['sentiment'] == 'positive', 1, 0) # recode outcome variable\n",
        "\n",
        "print(len(df_review))"
      ],
      "execution_count": null,
      "outputs": [
        {
          "output_type": "stream",
          "name": "stdout",
          "text": [
            "2000\n"
          ]
        }
      ]
    },
    {
      "cell_type": "code",
      "source": [
        "### Overview\n",
        "\n",
        "class_balance = df_review['sentiment'].value_counts(normalize = True) # class balance\n",
        "print(class_balance)\n",
        "\n",
        "df_review.head()"
      ],
      "metadata": {
        "colab": {
          "base_uri": "https://localhost:8080/",
          "height": 271
        },
        "id": "UN02xSiqAkXU",
        "outputId": "de8afd6b-bc34-4684-e499-67ebc10402b5"
      },
      "execution_count": null,
      "outputs": [
        {
          "output_type": "stream",
          "name": "stdout",
          "text": [
            "1    0.5195\n",
            "0    0.4805\n",
            "Name: sentiment, dtype: float64\n"
          ]
        },
        {
          "output_type": "execute_result",
          "data": {
            "text/plain": [
              "                                              review  sentiment\n",
              "0  ...Or better yet, watch Fandango if you want t...          0\n",
              "1  When I first heard about the show, I heard a l...          1\n",
              "2  While some performances were good-Victoria Row...          0\n",
              "3  Latter Days is a very, VERY independent movie....          1\n",
              "4  While not quite as good as A Murder is Announc...          1"
            ],
            "text/html": [
              "\n",
              "  <div id=\"df-308d3adc-1167-464e-84cc-2f4bf431a46e\" class=\"colab-df-container\">\n",
              "    <div>\n",
              "<style scoped>\n",
              "    .dataframe tbody tr th:only-of-type {\n",
              "        vertical-align: middle;\n",
              "    }\n",
              "\n",
              "    .dataframe tbody tr th {\n",
              "        vertical-align: top;\n",
              "    }\n",
              "\n",
              "    .dataframe thead th {\n",
              "        text-align: right;\n",
              "    }\n",
              "</style>\n",
              "<table border=\"1\" class=\"dataframe\">\n",
              "  <thead>\n",
              "    <tr style=\"text-align: right;\">\n",
              "      <th></th>\n",
              "      <th>review</th>\n",
              "      <th>sentiment</th>\n",
              "    </tr>\n",
              "  </thead>\n",
              "  <tbody>\n",
              "    <tr>\n",
              "      <th>0</th>\n",
              "      <td>...Or better yet, watch Fandango if you want t...</td>\n",
              "      <td>0</td>\n",
              "    </tr>\n",
              "    <tr>\n",
              "      <th>1</th>\n",
              "      <td>When I first heard about the show, I heard a l...</td>\n",
              "      <td>1</td>\n",
              "    </tr>\n",
              "    <tr>\n",
              "      <th>2</th>\n",
              "      <td>While some performances were good-Victoria Row...</td>\n",
              "      <td>0</td>\n",
              "    </tr>\n",
              "    <tr>\n",
              "      <th>3</th>\n",
              "      <td>Latter Days is a very, VERY independent movie....</td>\n",
              "      <td>1</td>\n",
              "    </tr>\n",
              "    <tr>\n",
              "      <th>4</th>\n",
              "      <td>While not quite as good as A Murder is Announc...</td>\n",
              "      <td>1</td>\n",
              "    </tr>\n",
              "  </tbody>\n",
              "</table>\n",
              "</div>\n",
              "    <div class=\"colab-df-buttons\">\n",
              "\n",
              "  <div class=\"colab-df-container\">\n",
              "    <button class=\"colab-df-convert\" onclick=\"convertToInteractive('df-308d3adc-1167-464e-84cc-2f4bf431a46e')\"\n",
              "            title=\"Convert this dataframe to an interactive table.\"\n",
              "            style=\"display:none;\">\n",
              "\n",
              "  <svg xmlns=\"http://www.w3.org/2000/svg\" height=\"24px\" viewBox=\"0 -960 960 960\">\n",
              "    <path d=\"M120-120v-720h720v720H120Zm60-500h600v-160H180v160Zm220 220h160v-160H400v160Zm0 220h160v-160H400v160ZM180-400h160v-160H180v160Zm440 0h160v-160H620v160ZM180-180h160v-160H180v160Zm440 0h160v-160H620v160Z\"/>\n",
              "  </svg>\n",
              "    </button>\n",
              "\n",
              "  <style>\n",
              "    .colab-df-container {\n",
              "      display:flex;\n",
              "      gap: 12px;\n",
              "    }\n",
              "\n",
              "    .colab-df-convert {\n",
              "      background-color: #E8F0FE;\n",
              "      border: none;\n",
              "      border-radius: 50%;\n",
              "      cursor: pointer;\n",
              "      display: none;\n",
              "      fill: #1967D2;\n",
              "      height: 32px;\n",
              "      padding: 0 0 0 0;\n",
              "      width: 32px;\n",
              "    }\n",
              "\n",
              "    .colab-df-convert:hover {\n",
              "      background-color: #E2EBFA;\n",
              "      box-shadow: 0px 1px 2px rgba(60, 64, 67, 0.3), 0px 1px 3px 1px rgba(60, 64, 67, 0.15);\n",
              "      fill: #174EA6;\n",
              "    }\n",
              "\n",
              "    .colab-df-buttons div {\n",
              "      margin-bottom: 4px;\n",
              "    }\n",
              "\n",
              "    [theme=dark] .colab-df-convert {\n",
              "      background-color: #3B4455;\n",
              "      fill: #D2E3FC;\n",
              "    }\n",
              "\n",
              "    [theme=dark] .colab-df-convert:hover {\n",
              "      background-color: #434B5C;\n",
              "      box-shadow: 0px 1px 3px 1px rgba(0, 0, 0, 0.15);\n",
              "      filter: drop-shadow(0px 1px 2px rgba(0, 0, 0, 0.3));\n",
              "      fill: #FFFFFF;\n",
              "    }\n",
              "  </style>\n",
              "\n",
              "    <script>\n",
              "      const buttonEl =\n",
              "        document.querySelector('#df-308d3adc-1167-464e-84cc-2f4bf431a46e button.colab-df-convert');\n",
              "      buttonEl.style.display =\n",
              "        google.colab.kernel.accessAllowed ? 'block' : 'none';\n",
              "\n",
              "      async function convertToInteractive(key) {\n",
              "        const element = document.querySelector('#df-308d3adc-1167-464e-84cc-2f4bf431a46e');\n",
              "        const dataTable =\n",
              "          await google.colab.kernel.invokeFunction('convertToInteractive',\n",
              "                                                    [key], {});\n",
              "        if (!dataTable) return;\n",
              "\n",
              "        const docLinkHtml = 'Like what you see? Visit the ' +\n",
              "          '<a target=\"_blank\" href=https://colab.research.google.com/notebooks/data_table.ipynb>data table notebook</a>'\n",
              "          + ' to learn more about interactive tables.';\n",
              "        element.innerHTML = '';\n",
              "        dataTable['output_type'] = 'display_data';\n",
              "        await google.colab.output.renderOutput(dataTable, element);\n",
              "        const docLink = document.createElement('div');\n",
              "        docLink.innerHTML = docLinkHtml;\n",
              "        element.appendChild(docLink);\n",
              "      }\n",
              "    </script>\n",
              "  </div>\n",
              "\n",
              "\n",
              "<div id=\"df-baedcdc8-3ad6-499b-acee-54f8aa6807de\">\n",
              "  <button class=\"colab-df-quickchart\" onclick=\"quickchart('df-baedcdc8-3ad6-499b-acee-54f8aa6807de')\"\n",
              "            title=\"Suggest charts\"\n",
              "            style=\"display:none;\">\n",
              "\n",
              "<svg xmlns=\"http://www.w3.org/2000/svg\" height=\"24px\"viewBox=\"0 0 24 24\"\n",
              "     width=\"24px\">\n",
              "    <g>\n",
              "        <path d=\"M19 3H5c-1.1 0-2 .9-2 2v14c0 1.1.9 2 2 2h14c1.1 0 2-.9 2-2V5c0-1.1-.9-2-2-2zM9 17H7v-7h2v7zm4 0h-2V7h2v10zm4 0h-2v-4h2v4z\"/>\n",
              "    </g>\n",
              "</svg>\n",
              "  </button>\n",
              "\n",
              "<style>\n",
              "  .colab-df-quickchart {\n",
              "      --bg-color: #E8F0FE;\n",
              "      --fill-color: #1967D2;\n",
              "      --hover-bg-color: #E2EBFA;\n",
              "      --hover-fill-color: #174EA6;\n",
              "      --disabled-fill-color: #AAA;\n",
              "      --disabled-bg-color: #DDD;\n",
              "  }\n",
              "\n",
              "  [theme=dark] .colab-df-quickchart {\n",
              "      --bg-color: #3B4455;\n",
              "      --fill-color: #D2E3FC;\n",
              "      --hover-bg-color: #434B5C;\n",
              "      --hover-fill-color: #FFFFFF;\n",
              "      --disabled-bg-color: #3B4455;\n",
              "      --disabled-fill-color: #666;\n",
              "  }\n",
              "\n",
              "  .colab-df-quickchart {\n",
              "    background-color: var(--bg-color);\n",
              "    border: none;\n",
              "    border-radius: 50%;\n",
              "    cursor: pointer;\n",
              "    display: none;\n",
              "    fill: var(--fill-color);\n",
              "    height: 32px;\n",
              "    padding: 0;\n",
              "    width: 32px;\n",
              "  }\n",
              "\n",
              "  .colab-df-quickchart:hover {\n",
              "    background-color: var(--hover-bg-color);\n",
              "    box-shadow: 0 1px 2px rgba(60, 64, 67, 0.3), 0 1px 3px 1px rgba(60, 64, 67, 0.15);\n",
              "    fill: var(--button-hover-fill-color);\n",
              "  }\n",
              "\n",
              "  .colab-df-quickchart-complete:disabled,\n",
              "  .colab-df-quickchart-complete:disabled:hover {\n",
              "    background-color: var(--disabled-bg-color);\n",
              "    fill: var(--disabled-fill-color);\n",
              "    box-shadow: none;\n",
              "  }\n",
              "\n",
              "  .colab-df-spinner {\n",
              "    border: 2px solid var(--fill-color);\n",
              "    border-color: transparent;\n",
              "    border-bottom-color: var(--fill-color);\n",
              "    animation:\n",
              "      spin 1s steps(1) infinite;\n",
              "  }\n",
              "\n",
              "  @keyframes spin {\n",
              "    0% {\n",
              "      border-color: transparent;\n",
              "      border-bottom-color: var(--fill-color);\n",
              "      border-left-color: var(--fill-color);\n",
              "    }\n",
              "    20% {\n",
              "      border-color: transparent;\n",
              "      border-left-color: var(--fill-color);\n",
              "      border-top-color: var(--fill-color);\n",
              "    }\n",
              "    30% {\n",
              "      border-color: transparent;\n",
              "      border-left-color: var(--fill-color);\n",
              "      border-top-color: var(--fill-color);\n",
              "      border-right-color: var(--fill-color);\n",
              "    }\n",
              "    40% {\n",
              "      border-color: transparent;\n",
              "      border-right-color: var(--fill-color);\n",
              "      border-top-color: var(--fill-color);\n",
              "    }\n",
              "    60% {\n",
              "      border-color: transparent;\n",
              "      border-right-color: var(--fill-color);\n",
              "    }\n",
              "    80% {\n",
              "      border-color: transparent;\n",
              "      border-right-color: var(--fill-color);\n",
              "      border-bottom-color: var(--fill-color);\n",
              "    }\n",
              "    90% {\n",
              "      border-color: transparent;\n",
              "      border-bottom-color: var(--fill-color);\n",
              "    }\n",
              "  }\n",
              "</style>\n",
              "\n",
              "  <script>\n",
              "    async function quickchart(key) {\n",
              "      const quickchartButtonEl =\n",
              "        document.querySelector('#' + key + ' button');\n",
              "      quickchartButtonEl.disabled = true;  // To prevent multiple clicks.\n",
              "      quickchartButtonEl.classList.add('colab-df-spinner');\n",
              "      try {\n",
              "        const charts = await google.colab.kernel.invokeFunction(\n",
              "            'suggestCharts', [key], {});\n",
              "      } catch (error) {\n",
              "        console.error('Error during call to suggestCharts:', error);\n",
              "      }\n",
              "      quickchartButtonEl.classList.remove('colab-df-spinner');\n",
              "      quickchartButtonEl.classList.add('colab-df-quickchart-complete');\n",
              "    }\n",
              "    (() => {\n",
              "      let quickchartButtonEl =\n",
              "        document.querySelector('#df-baedcdc8-3ad6-499b-acee-54f8aa6807de button');\n",
              "      quickchartButtonEl.style.display =\n",
              "        google.colab.kernel.accessAllowed ? 'block' : 'none';\n",
              "    })();\n",
              "  </script>\n",
              "</div>\n",
              "\n",
              "    </div>\n",
              "  </div>\n"
            ],
            "application/vnd.google.colaboratory.intrinsic+json": {
              "type": "dataframe",
              "variable_name": "df_review",
              "summary": "{\n  \"name\": \"df_review\",\n  \"rows\": 2000,\n  \"fields\": [\n    {\n      \"column\": \"review\",\n      \"properties\": {\n        \"dtype\": \"string\",\n        \"num_unique_values\": 2000,\n        \"samples\": [\n          \"I can honestly tell you that this movie is the most awesome movie ever!!! If you are in the mood for a comedy, I totally recommend this movie! So, here's the summary. There is this girl(Nikki) who is fourteen and a half and she goes on a vacation with her father(Andre) whom she hasn't seen for about two years. She expects the vacation to be totally boring, until she meets this boy(Ben), who is much older than she is. So, to try to impress him she says that she isn't on vacation with her father, but her lover. This is a hysterical movie from beginning to end, and I highly suggest it. So rent it and enjoy!!!\",\n          \"I can't understand why they decided to release this film to introduce the American audience to the dynamo that is Jet Li. Fist of Legend would have been a much better choice. Anyway, Black Mask isn't terrible, but it certainly isn't great either. The final fight sequence is well staged by Yuen Woo Ping who went on to coordinate The Matrix. But the English release suffers from rough editing and dubbing. (I'm begging the Hollywood studios to release these films uncut with subtitles.)Jet Li shows his characteristic charisma in the title role and Francoise Yip has a cool but brief role as the female 701.<br /><br />Black Mask has a strange goth style that adds some interest but it is overloaded with gun battles and explosions. More focus on Li's fantastic physical skills were in order. Black Mask is a decent film but do yourself a favor and pick up Fist of Legend if you want to see a tremendous film that really shows Li's skills.\",\n          \"Cooley High is considered one of my best all time movies. It certainly reminds me of days of my youth growing up in the cities of Cleveland and Chicago during the early, mid, and late 1960's. What ever happened to Brenda and Pooter? Some one need's to track those two down. Brenda for her beauty and Pooter for his innocent wit. They both deserve to be recognized even 31 years after this film was debuted. I think a lot of the fans of this movie would like to find out what happened to them as well as others who acted in this fun filled movie. I certainly think this movie should be entered into some type of MOVIE HALL OF FAME. All of the cast of this movie was great. My opinion is of \\\" Cooley High \\\" is turn back the hands of time, those were the fun years.\"\n        ],\n        \"semantic_type\": \"\",\n        \"description\": \"\"\n      }\n    },\n    {\n      \"column\": \"sentiment\",\n      \"properties\": {\n        \"dtype\": \"number\",\n        \"std\": 0,\n        \"min\": 0,\n        \"max\": 1,\n        \"num_unique_values\": 2,\n        \"samples\": [\n          1,\n          0\n        ],\n        \"semantic_type\": \"\",\n        \"description\": \"\"\n      }\n    }\n  ]\n}"
            }
          },
          "metadata": {},
          "execution_count": 5
        }
      ]
    },
    {
      "cell_type": "code",
      "source": [
        "### For simplicity, we generate separate short-name objects for the comment and the sentiment label\n",
        "\n",
        "X = df_review['review']\n",
        "y = df_review['sentiment']"
      ],
      "metadata": {
        "id": "z8F9yjdgClbP"
      },
      "execution_count": null,
      "outputs": []
    },
    {
      "cell_type": "markdown",
      "source": [
        "### **Train/Test split with no regularization**"
      ],
      "metadata": {
        "id": "CXfg9pUDBkvu"
      }
    },
    {
      "cell_type": "code",
      "source": [
        "### Split the dataset into training and test sets\n",
        "\n",
        "X_train_val, X_test, y_train_val, y_test = train_test_split(X, y, test_size = 0.2, random_state = 42)\n",
        "print(len(X_train_val))\n",
        "print(len(X_test))\n",
        "\n",
        "### Vectorizing text data\n",
        "\n",
        "tfidf_vectorizer = TfidfVectorizer() # we are using the default settings\n",
        "X_train_tfidf = tfidf_vectorizer.fit_transform(X_train_val) # generate feature space (i.e., tokens)\n",
        "X_test_tfidf = tfidf_vectorizer.transform(X_test)\n",
        "\n",
        "### Training the model\n",
        "\n",
        "model = LogisticRegression() # instantiate a logistic regression model\n",
        "model.fit(X_train_tfidf, y_train_val) # estimate coefficients (bias term + weights)\n",
        "\n",
        "### Making predictions\n",
        "\n",
        "predictions = model.predict(X_test_tfidf)\n",
        "print(f'Accuracy (No Regularization): {accuracy_score(y_test, predictions)}')"
      ],
      "metadata": {
        "colab": {
          "base_uri": "https://localhost:8080/"
        },
        "id": "iO7SyX7sOy4N",
        "outputId": "0a1b554b-349f-419a-8622-d718a2acabe5"
      },
      "execution_count": null,
      "outputs": [
        {
          "output_type": "stream",
          "name": "stdout",
          "text": [
            "1600\n",
            "400\n",
            "Accuracy (No Regularization): 0.8075\n"
          ]
        }
      ]
    },
    {
      "cell_type": "code",
      "source": [
        "### We can streamline the above using \"Pipeline\"\n",
        "\n",
        "pipeline = Pipeline([\n",
        "    ('tfidf', TfidfVectorizer()),\n",
        "    ('classifier', LogisticRegression(penalty = 'l2', C = 1))\n",
        "    ])\n",
        "\n",
        "### Fit the pipeline to the training data\n",
        "\n",
        "pipeline.fit(X_train_val, y_train_val) # note the use of the train-val sets\n",
        "\n",
        "### Predict on the test set and evaluate performance\n",
        "\n",
        "predictions = pipeline.predict(X_test)\n",
        "print(f'Accuracy (No Regularization): {accuracy_score(y_test, predictions)}')"
      ],
      "metadata": {
        "colab": {
          "base_uri": "https://localhost:8080/"
        },
        "id": "l208B2lBBquL",
        "outputId": "55faa606-135c-42a1-8508-d8552647d3b3"
      },
      "execution_count": null,
      "outputs": [
        {
          "output_type": "stream",
          "name": "stdout",
          "text": [
            "Accuracy (No Regularization): 0.8075\n"
          ]
        }
      ]
    },
    {
      "cell_type": "markdown",
      "source": [
        "### **Training, Validation, and Test Sets with L2 Regularization**"
      ],
      "metadata": {
        "id": "-qQK9KE1DyNx"
      }
    },
    {
      "cell_type": "code",
      "source": [
        "### Further split the training-validate set into training and validation sets\n",
        "\n",
        "X_train, X_val, y_train, y_val = train_test_split(X_train_val, y_train_val, test_size = 0.25) # no random state for multiple runs\n",
        "print(len(X_train))\n",
        "print(len(X_val))\n",
        "print(len(X_test))\n",
        "\n",
        "regularization_strengths = [0.0001, 0.001, 0.01, 0.1, 1, 10, 100, 1000, 10000]\n",
        "\n",
        "for c in regularization_strengths:\n",
        "    pipeline = Pipeline([\n",
        "        ('tfidf', TfidfVectorizer()),\n",
        "        ('classifier', LogisticRegression(penalty = 'l2', C = c))\n",
        "    ])\n",
        "    pipeline.fit(X_train, y_train)\n",
        "    predictions = pipeline.predict(X_val)\n",
        "    print(f'Accuracy (L2 Regularization, C = {c}): {accuracy_score(y_val, predictions)}')\n"
      ],
      "metadata": {
        "colab": {
          "base_uri": "https://localhost:8080/"
        },
        "id": "ejNKTAq9DxkO",
        "outputId": "19d5a672-475f-4a89-d9e8-f4d575a8590d"
      },
      "execution_count": null,
      "outputs": [
        {
          "output_type": "stream",
          "name": "stdout",
          "text": [
            "1200\n",
            "400\n",
            "400\n",
            "Accuracy (L2 Regularization, C = 0.0001): 0.5525\n",
            "Accuracy (L2 Regularization, C = 0.001): 0.5525\n",
            "Accuracy (L2 Regularization, C = 0.01): 0.5525\n",
            "Accuracy (L2 Regularization, C = 0.1): 0.7875\n",
            "Accuracy (L2 Regularization, C = 1): 0.825\n",
            "Accuracy (L2 Regularization, C = 10): 0.8225\n",
            "Accuracy (L2 Regularization, C = 100): 0.84\n",
            "Accuracy (L2 Regularization, C = 1000): 0.84\n",
            "Accuracy (L2 Regularization, C = 10000): 0.8325\n"
          ]
        }
      ]
    },
    {
      "cell_type": "markdown",
      "source": [
        "## **Cross-Validation with L2 Regularization and a Holdout Test Set**"
      ],
      "metadata": {
        "id": "_SEQlYL9HTNT"
      }
    },
    {
      "cell_type": "code",
      "source": [
        "### Perform 5-fold cross-validation\n",
        "\n",
        "for c in regularization_strengths:\n",
        "    pipeline = Pipeline([\n",
        "        ('tfidf', TfidfVectorizer()),\n",
        "        ('classifier', LogisticRegression(penalty = 'l2', C = c, random_state = 42))\n",
        "    ])\n",
        "    scores = cross_val_score(pipeline, X_train_val, y_train_val, cv = 5)\n",
        "    print(f'Average Accuracy (L2 Regularization, C = {c}): {scores.mean()}')"
      ],
      "metadata": {
        "colab": {
          "base_uri": "https://localhost:8080/"
        },
        "id": "cSuV69ytHTfD",
        "outputId": "800ea44c-6af0-4093-b14d-c0c4d66f725b"
      },
      "execution_count": null,
      "outputs": [
        {
          "output_type": "stream",
          "name": "stdout",
          "text": [
            "Average Accuracy (L2 Regularization, C = 0.0001): 0.5225000000000001\n",
            "Average Accuracy (L2 Regularization, C = 0.001): 0.5225000000000001\n",
            "Average Accuracy (L2 Regularization, C = 0.01): 0.5225000000000001\n",
            "Average Accuracy (L2 Regularization, C = 0.1): 0.716875\n",
            "Average Accuracy (L2 Regularization, C = 1): 0.819375\n",
            "Average Accuracy (L2 Regularization, C = 10): 0.8362499999999999\n",
            "Average Accuracy (L2 Regularization, C = 100): 0.838125\n",
            "Average Accuracy (L2 Regularization, C = 1000): 0.836875\n",
            "Average Accuracy (L2 Regularization, C = 10000): 0.8337499999999999\n"
          ]
        }
      ]
    },
    {
      "cell_type": "code",
      "source": [
        "pipeline = Pipeline([\n",
        "    ('tfidf', TfidfVectorizer()),\n",
        "    ('classifier', LogisticRegression(penalty = 'l2', C = 5))\n",
        "    ])\n",
        "\n",
        "### Fit the pipeline to the training data\n",
        "\n",
        "pipeline.fit(X_train_val, y_train_val) # note the use of the train-val sets\n",
        "\n",
        "\n",
        "### Predict on the test set and evaluate performance\n",
        "\n",
        "predictions = pipeline.predict(X_test)\n",
        "print(f'Accuracy (best configuration based on CV): {accuracy_score(y_test, predictions)}')"
      ],
      "metadata": {
        "colab": {
          "base_uri": "https://localhost:8080/"
        },
        "id": "zD2e8-SsI1-I",
        "outputId": "25e83cda-3b94-4d33-e460-7c530203587e"
      },
      "execution_count": null,
      "outputs": [
        {
          "output_type": "stream",
          "name": "stdout",
          "text": [
            "Accuracy (best configuration based on CV): 0.825\n"
          ]
        }
      ]
    },
    {
      "cell_type": "markdown",
      "source": [
        "## **Various ways to evaluate performance**"
      ],
      "metadata": {
        "id": "lzTNDxQPJ7QS"
      }
    },
    {
      "cell_type": "code",
      "source": [
        "cm = confusion_matrix(y_test, predictions)\n",
        "print(cm)"
      ],
      "metadata": {
        "colab": {
          "base_uri": "https://localhost:8080/"
        },
        "id": "MDX7yUTiJ_pD",
        "outputId": "ce52148c-bfe2-41de-eeda-5521cc2a8dba"
      },
      "execution_count": null,
      "outputs": [
        {
          "output_type": "stream",
          "name": "stdout",
          "text": [
            "[[152  45]\n",
            " [ 25 178]]\n"
          ]
        }
      ]
    },
    {
      "cell_type": "code",
      "source": [
        "from sklearn.metrics import ConfusionMatrixDisplay\n",
        "import matplotlib.pyplot as plt\n",
        "\n",
        "### Use ConfusionMatrixDisplay to plot the confusion matrix\n",
        "\n",
        "disp = ConfusionMatrixDisplay(confusion_matrix = cm)\n",
        "\n",
        "disp.plot(cmap=plt.cm.Blues)\n",
        "plt.title('Confusion Matrix')\n",
        "plt.show()"
      ],
      "metadata": {
        "colab": {
          "base_uri": "https://localhost:8080/",
          "height": 493
        },
        "id": "R2v5DuBzKyut",
        "outputId": "ed3a69d5-f423-4414-d719-83c26a8e56f7"
      },
      "execution_count": null,
      "outputs": [
        {
          "output_type": "display_data",
          "data": {
            "text/plain": [
              "<Figure size 640x480 with 2 Axes>"
            ],
            "image/png": "[encoded data removed]"
          },
          "metadata": {}
        }
      ]
    },
    {
      "cell_type": "markdown",
      "source": [
        "## **Try some hand calculations**"
      ],
      "metadata": {
        "id": "44ea2i_zLOHI"
      }
    },
    {
      "cell_type": "code",
      "source": [
        "### hand calculations based on the confusion matrix\n",
        "\n",
        "accuracy_hand = (400 - (? + ?)) / 400\n",
        "precision_hand = ? / (? + ?)\n",
        "recall_hand = ? / (? + ?)\n",
        "f1_hand = (2 * precision_hand * recall_hand) / (precision_hand + recall_hand)\n",
        "\n",
        "print(accuracy_hand)\n",
        "print(precision_hand)\n",
        "print(recall_hand)\n",
        "print(f1_hand)\n",
        "\n",
        "### cross-check\n",
        "\n",
        "accuracy = accuracy_score(y_test, predictions)\n",
        "precision = precision_score(y_test, predictions)\n",
        "recall = recall_score(y_test, predictions)\n",
        "f1 = f1_score(y_test, predictions)\n",
        "\n",
        "print(accuracy)\n",
        "print(precision)\n",
        "print(recall)\n",
        "print(f1)"
      ],
      "metadata": {
        "id": "BM0DGT4jLwN7"
      },
      "execution_count": null,
      "outputs": []
    }
  ]
}