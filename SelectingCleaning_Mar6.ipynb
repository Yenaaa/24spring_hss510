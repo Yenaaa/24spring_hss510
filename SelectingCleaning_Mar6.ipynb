{
  "cells": [
    {
      "cell_type": "markdown",
      "metadata": {
        "id": "view-in-github",
        "colab_type": "text"
      },
      "source": [
        "<a href=\"https://colab.research.google.com/github/Yenaaa/24spring_hss510/blob/main/SelectingCleaning_Mar6.ipynb\" target=\"_parent\"><img src=\"https://colab.research.google.com/assets/colab-badge.svg\" alt=\"Open In Colab\"/></a>"
      ]
    },
    {
      "cell_type": "markdown",
      "id": "c4858a3f",
      "metadata": {
        "id": "c4858a3f"
      },
      "source": [
        "## **HSS 510 Guide Coding: Selecting and Cleaning Texts**\n",
        "\n",
        "### **2024 Mar 6, Taegyoon Kim**\n",
        "\n",
        "\n",
        "---"
      ]
    },
    {
      "cell_type": "markdown",
      "id": "46941b20",
      "metadata": {
        "id": "46941b20"
      },
      "source": [
        "## **Topics**\n",
        "- String manipulation\n",
        "- Regular expressions"
      ]
    },
    {
      "cell_type": "markdown",
      "source": [
        "## **String manipulation**\n",
        "-   In Python, \"methods\" are functions that belong to an object\n",
        "-   They only work with that object\n",
        "-   They are used with dot notation: `object.method()`\n",
        "-   Python has really rich string methods\n",
        "-   See a full list [here](https://www.w3schools.com/python/python_ref_string.asp)\n",
        "-   Let's explore some of them"
      ],
      "metadata": {
        "id": "LsxsTumhWgxz"
      },
      "id": "LsxsTumhWgxz"
    },
    {
      "cell_type": "markdown",
      "source": [
        "### `startswith()` and `endswith()`\n",
        "- Return a Boolean value"
      ],
      "metadata": {
        "id": "4IdJSLoSXj8a"
      },
      "id": "4IdJSLoSXj8a"
    },
    {
      "cell_type": "code",
      "source": [
        "url = 'www.google.com'\n",
        "url.startswith('www.g')\n",
        "url.startswith('www')\n",
        "url.endswith('com')\n",
        "url.endswith('.co.kr')"
      ],
      "metadata": {
        "colab": {
          "base_uri": "https://localhost:8080/"
        },
        "id": "EFOQ5xbcWxcb",
        "outputId": "bf7e59e1-0f9d-4e10-eee3-276cba37053a"
      },
      "id": "EFOQ5xbcWxcb",
      "execution_count": null,
      "outputs": [
        {
          "output_type": "execute_result",
          "data": {
            "text/plain": [
              "False"
            ]
          },
          "metadata": {},
          "execution_count": 7
        }
      ]
    },
    {
      "cell_type": "markdown",
      "source": [
        "### Use `in` operator to see if a string 'just contains' a substring"
      ],
      "metadata": {
        "id": "yA_46-fKKOsr"
      },
      "id": "yA_46-fKKOsr"
    },
    {
      "cell_type": "code",
      "source": [
        "print('www' in url and '.ac.kr' in url)\n",
        "print('www' in url and '.com' in url)\n",
        "print('www' in url and '.com' in url)"
      ],
      "metadata": {
        "colab": {
          "base_uri": "https://localhost:8080/"
        },
        "id": "HeqaUK1CYWxy",
        "outputId": "aa7e1321-4f0a-4a69-eac1-949ba6bc3149"
      },
      "id": "HeqaUK1CYWxy",
      "execution_count": null,
      "outputs": [
        {
          "output_type": "stream",
          "name": "stdout",
          "text": [
            "False\n",
            "True\n",
            "True\n"
          ]
        }
      ]
    },
    {
      "cell_type": "markdown",
      "source": [
        "### `capitalize()`, `title()`, `upper()`, `lower()`\n",
        "- `capitalize()` capitalizes the first character (and lowercases the rest)"
      ],
      "metadata": {
        "id": "Up-glaIzYzpr"
      },
      "id": "Up-glaIzYzpr"
    },
    {
      "cell_type": "code",
      "source": [
        "paper = 'the New York times'\n",
        "paper.capitalize()"
      ],
      "metadata": {
        "id": "JrE1viQTZ8ST",
        "colab": {
          "base_uri": "https://localhost:8080/",
          "height": 35
        },
        "outputId": "64ab8c2b-b4a2-469f-fd9b-99265e2a80a6"
      },
      "id": "JrE1viQTZ8ST",
      "execution_count": null,
      "outputs": [
        {
          "output_type": "execute_result",
          "data": {
            "text/plain": [
              "'The new york times'"
            ],
            "application/vnd.google.colaboratory.intrinsic+json": {
              "type": "string"
            }
          },
          "metadata": {},
          "execution_count": 11
        }
      ]
    },
    {
      "cell_type": "markdown",
      "source": [
        "- `title()` capitalizes the first character of every word"
      ],
      "metadata": {
        "id": "Ny2XkbbGdQep"
      },
      "id": "Ny2XkbbGdQep"
    },
    {
      "cell_type": "code",
      "source": [
        "paper.title()"
      ],
      "metadata": {
        "id": "SYn9tchuaCnx",
        "colab": {
          "base_uri": "https://localhost:8080/",
          "height": 35
        },
        "outputId": "f5d79775-7a6a-4359-9c55-ec65ca34d3f0"
      },
      "id": "SYn9tchuaCnx",
      "execution_count": null,
      "outputs": [
        {
          "output_type": "execute_result",
          "data": {
            "text/plain": [
              "'The New York Times'"
            ],
            "application/vnd.google.colaboratory.intrinsic+json": {
              "type": "string"
            }
          },
          "metadata": {},
          "execution_count": 12
        }
      ]
    },
    {
      "cell_type": "markdown",
      "source": [
        "- `upper()` capitalizes everything"
      ],
      "metadata": {
        "id": "-bqvBp7udS8a"
      },
      "id": "-bqvBp7udS8a"
    },
    {
      "cell_type": "code",
      "source": [
        "paper.upper()"
      ],
      "metadata": {
        "id": "smvpiIelaKsj",
        "colab": {
          "base_uri": "https://localhost:8080/",
          "height": 35
        },
        "outputId": "21eb3820-0af4-439d-b8ca-e317e6110035"
      },
      "id": "smvpiIelaKsj",
      "execution_count": null,
      "outputs": [
        {
          "output_type": "execute_result",
          "data": {
            "text/plain": [
              "'THE NEW YORK TIMES'"
            ],
            "application/vnd.google.colaboratory.intrinsic+json": {
              "type": "string"
            }
          },
          "metadata": {},
          "execution_count": 13
        }
      ]
    },
    {
      "cell_type": "markdown",
      "source": [
        "- `lower()` converts string to all lowercase"
      ],
      "metadata": {
        "id": "LrlD53CbdTvS"
      },
      "id": "LrlD53CbdTvS"
    },
    {
      "cell_type": "code",
      "source": [
        "paper.lower()"
      ],
      "metadata": {
        "id": "GXysQa6eaLti",
        "colab": {
          "base_uri": "https://localhost:8080/",
          "height": 35
        },
        "outputId": "72479a28-6581-4591-939e-dfa744dd277b"
      },
      "id": "GXysQa6eaLti",
      "execution_count": null,
      "outputs": [
        {
          "output_type": "execute_result",
          "data": {
            "text/plain": [
              "'the new york times'"
            ],
            "application/vnd.google.colaboratory.intrinsic+json": {
              "type": "string"
            }
          },
          "metadata": {},
          "execution_count": 14
        }
      ]
    },
    {
      "cell_type": "markdown",
      "source": [
        "### `split()`\n",
        "- `split()` splits strings into a list of strings\n",
        "- If no character is specified, it will split from space (' ')"
      ],
      "metadata": {
        "id": "oaL9glIiaPRg"
      },
      "id": "oaL9glIiaPRg"
    },
    {
      "cell_type": "code",
      "source": [
        "print(paper)\n",
        "\n",
        "list_split = paper.split()\n",
        "print(list_split)"
      ],
      "metadata": {
        "id": "ZOb5dd9TadOQ",
        "colab": {
          "base_uri": "https://localhost:8080/"
        },
        "outputId": "d71fc2bd-496e-47d2-b18b-fc1ef29dd37d"
      },
      "id": "ZOb5dd9TadOQ",
      "execution_count": null,
      "outputs": [
        {
          "output_type": "stream",
          "name": "stdout",
          "text": [
            "the New York times\n",
            "['the', 'New', 'York', 'times']\n"
          ]
        }
      ]
    },
    {
      "cell_type": "code",
      "source": [
        "print(url)\n",
        "url.split('.')"
      ],
      "metadata": {
        "id": "a1sP5twYajdE"
      },
      "id": "a1sP5twYajdE",
      "execution_count": null,
      "outputs": []
    },
    {
      "cell_type": "code",
      "source": [
        "'MICHIGAN'.split('I')"
      ],
      "metadata": {
        "id": "5jFxFXHjakqW",
        "colab": {
          "base_uri": "https://localhost:8080/"
        },
        "outputId": "af88d084-6767-4870-bf2a-d02b58eb4635"
      },
      "id": "5jFxFXHjakqW",
      "execution_count": null,
      "outputs": [
        {
          "output_type": "execute_result",
          "data": {
            "text/plain": [
              "['M', 'CH', 'GAN']"
            ]
          },
          "metadata": {},
          "execution_count": 17
        }
      ]
    },
    {
      "cell_type": "markdown",
      "source": [
        "### `strip`, `lstrip`, `rstrip`\n",
        "-   Trim from right (`rstrip`), left (`lstrip`), or both sides (`strip`)\n",
        "-   Removes trailing white space characters such as `' '`, `\\t`, `\\n`"
      ],
      "metadata": {
        "id": "mgTjRp6TamAj"
      },
      "id": "mgTjRp6TamAj"
    },
    {
      "cell_type": "code",
      "source": [
        "msg = '\\n   Hello, world! Again!   \\n'\n",
        "print(msg)"
      ],
      "metadata": {
        "id": "bp5PG44narzj",
        "colab": {
          "base_uri": "https://localhost:8080/"
        },
        "outputId": "f32c8936-fe24-46e5-8a7a-90f0ec491af9"
      },
      "id": "bp5PG44narzj",
      "execution_count": null,
      "outputs": [
        {
          "output_type": "stream",
          "name": "stdout",
          "text": [
            "\n",
            "   Hello, world! Again!   \n",
            "\n"
          ]
        }
      ]
    },
    {
      "cell_type": "code",
      "source": [
        "print(msg.rstrip())"
      ],
      "metadata": {
        "id": "NAbOp9cJaucp",
        "colab": {
          "base_uri": "https://localhost:8080/"
        },
        "outputId": "9d939c60-1210-43f1-8baa-66d1ffeade14"
      },
      "id": "NAbOp9cJaucp",
      "execution_count": null,
      "outputs": [
        {
          "output_type": "stream",
          "name": "stdout",
          "text": [
            "\n",
            "   Hello, world! Again!\n"
          ]
        }
      ]
    },
    {
      "cell_type": "markdown",
      "source": [
        "### Modificadtion in place?\n",
        "- As you might have noticed, string methods will never modify in place"
      ],
      "metadata": {
        "id": "ti2A4HAQa3TR"
      },
      "id": "ti2A4HAQa3TR"
    },
    {
      "cell_type": "code",
      "source": [
        "paper = 'hss510'\n",
        "paper.upper()\n",
        "print(paper)\n",
        "paper_mod = paper.upper()\n",
        "print(paper_mod)"
      ],
      "metadata": {
        "id": "1QzrnBQOa6zE",
        "colab": {
          "base_uri": "https://localhost:8080/",
          "height": 36
        },
        "outputId": "08b743da-95b6-4de1-d1a4-a330dcaaa682"
      },
      "id": "1QzrnBQOa6zE",
      "execution_count": null,
      "outputs": [
        {
          "output_type": "execute_result",
          "data": {
            "text/plain": [
              "'HSS510'"
            ],
            "application/vnd.google.colaboratory.intrinsic+json": {
              "type": "string"
            }
          },
          "metadata": {},
          "execution_count": 20
        }
      ]
    },
    {
      "cell_type": "markdown",
      "source": [
        "### Indexing and Slicing Strings\n",
        "- Strings can be indexed and sliced just like lists"
      ],
      "metadata": {
        "id": "D3R-vDj3a8T9"
      },
      "id": "D3R-vDj3a8T9"
    },
    {
      "cell_type": "code",
      "source": [
        "word = 'slicing'\n",
        "print(word[:3])\n",
        "print(word[2:5:2]) # [start:stop:step] framework\n",
        "print(word[0])\n",
        "print(word[-1])\n",
        "print(word[2])"
      ],
      "metadata": {
        "id": "AXnY0l7nbBbm",
        "colab": {
          "base_uri": "https://localhost:8080/",
          "height": 35
        },
        "outputId": "fa2bec2f-153a-4d2a-c853-a9709eced8d2"
      },
      "id": "AXnY0l7nbBbm",
      "execution_count": null,
      "outputs": [
        {
          "output_type": "execute_result",
          "data": {
            "text/plain": [
              "'i'"
            ],
            "application/vnd.google.colaboratory.intrinsic+json": {
              "type": "string"
            }
          },
          "metadata": {},
          "execution_count": 30
        }
      ]
    },
    {
      "cell_type": "markdown",
      "source": [
        "- Strings are immutable, but they are iterable"
      ],
      "metadata": {
        "id": "FOwAGMdKbcgR"
      },
      "id": "FOwAGMdKbcgR"
    },
    {
      "cell_type": "code",
      "source": [
        "for char in 'hey you':\n",
        "  if not char == ' ':\n",
        "    print(char.upper() + '!')\n",
        "  else:\n",
        "    break\n",
        "\n",
        "for char in 'hey you':\n",
        "    if not char == \" \":\n",
        "        print(char.upper() + '!')\n",
        "    else:\n",
        "        break"
      ],
      "metadata": {
        "id": "jsiD1M_UbbxN",
        "colab": {
          "base_uri": "https://localhost:8080/"
        },
        "outputId": "9b412ba9-f122-4f76-a280-fc902a461820"
      },
      "id": "jsiD1M_UbbxN",
      "execution_count": null,
      "outputs": [
        {
          "output_type": "stream",
          "name": "stdout",
          "text": [
            "H!\n",
            "E!\n",
            "Y!\n",
            "H!\n",
            "E!\n",
            "Y!\n"
          ]
        }
      ]
    },
    {
      "cell_type": "markdown",
      "source": [
        "- The length of a string is its number of characters (including white spaces)"
      ],
      "metadata": {
        "id": "urOjSU6ubhtB"
      },
      "id": "urOjSU6ubhtB"
    },
    {
      "cell_type": "code",
      "source": [
        "len('Ann Arbor')"
      ],
      "metadata": {
        "id": "N2k_T_oFbjfS",
        "colab": {
          "base_uri": "https://localhost:8080/"
        },
        "outputId": "70ddec54-6ae5-44a6-ac5a-c5cfba5948b0"
      },
      "id": "N2k_T_oFbjfS",
      "execution_count": null,
      "outputs": [
        {
          "output_type": "execute_result",
          "data": {
            "text/plain": [
              "9"
            ]
          },
          "metadata": {},
          "execution_count": 32
        }
      ]
    },
    {
      "cell_type": "markdown",
      "source": [
        "### Strings and lists\n",
        "- Convert string to list: gives a list with every character in string"
      ],
      "metadata": {
        "id": "cral3kYwblPp"
      },
      "id": "cral3kYwblPp"
    },
    {
      "cell_type": "code",
      "source": [
        "list('sci art')"
      ],
      "metadata": {
        "id": "AG00uqOMb3or",
        "colab": {
          "base_uri": "https://localhost:8080/"
        },
        "outputId": "385d77fe-8395-4438-d1fa-b92b7d578d53"
      },
      "id": "AG00uqOMb3or",
      "execution_count": null,
      "outputs": [
        {
          "output_type": "execute_result",
          "data": {
            "text/plain": [
              "['s', 'c', 'i', ' ', 'a', 'r', 't']"
            ]
          },
          "metadata": {},
          "execution_count": 24
        }
      ]
    },
    {
      "cell_type": "code",
      "source": [
        "'sci art'.split() # what about this?"
      ],
      "metadata": {
        "id": "Ub8X4UaGN8-i",
        "colab": {
          "base_uri": "https://localhost:8080/"
        },
        "outputId": "1522ced6-1ed4-4b6c-c029-af3b03f54f22"
      },
      "id": "Ub8X4UaGN8-i",
      "execution_count": null,
      "outputs": [
        {
          "output_type": "execute_result",
          "data": {
            "text/plain": [
              "['sci', 'art']"
            ]
          },
          "metadata": {},
          "execution_count": 25
        }
      ]
    },
    {
      "cell_type": "markdown",
      "source": [
        "* One can also join a list of elements into a string (e.g., when you want to lump multiple sentences)"
      ],
      "metadata": {
        "id": "LHsDjRm_b7R9"
      },
      "id": "LHsDjRm_b7R9"
    },
    {
      "cell_type": "code",
      "source": [
        "letters = ['U', 'M', 'I', 'C', 'H']\n",
        "print(''.join(letters))"
      ],
      "metadata": {
        "id": "n1DPyYUdYxFI",
        "colab": {
          "base_uri": "https://localhost:8080/"
        },
        "outputId": "e2369c08-4bc9-4eeb-d903-1fc9dad5c164"
      },
      "id": "n1DPyYUdYxFI",
      "execution_count": null,
      "outputs": [
        {
          "output_type": "stream",
          "name": "stdout",
          "text": [
            "UMICH\n"
          ]
        }
      ]
    },
    {
      "cell_type": "markdown",
      "source": [
        "- We could join by another string too"
      ],
      "metadata": {
        "id": "ldR1ghz-cAxZ"
      },
      "id": "ldR1ghz-cAxZ"
    },
    {
      "cell_type": "code",
      "source": [
        "'-'.join(letters)"
      ],
      "metadata": {
        "id": "0Aud5p1IcEMN",
        "colab": {
          "base_uri": "https://localhost:8080/",
          "height": 35
        },
        "outputId": "102adbcd-7c52-42de-c4db-b9b8bb6c9bc2"
      },
      "id": "0Aud5p1IcEMN",
      "execution_count": null,
      "outputs": [
        {
          "output_type": "execute_result",
          "data": {
            "text/plain": [
              "'U-M-I-C-H'"
            ],
            "application/vnd.google.colaboratory.intrinsic+json": {
              "type": "string"
            }
          },
          "metadata": {},
          "execution_count": 37
        }
      ]
    },
    {
      "cell_type": "markdown",
      "source": [
        "## **Regular expressions**"
      ],
      "metadata": {
        "id": "7AQUhPkWWnN3"
      },
      "id": "7AQUhPkWWnN3"
    },
    {
      "cell_type": "markdown",
      "source": [
        "### Why regex?\n",
        "* We use regex to identify patterns\n",
        "* Very useful when we parse texts and extract certain components"
      ],
      "metadata": {
        "id": "0P6S6ZJK1znX"
      },
      "id": "0P6S6ZJK1znX"
    },
    {
      "cell_type": "markdown",
      "source": [
        "### Let's look at `find()` and `count()` string methods first\n",
        "* `find()` returns the index where the first occurrence of the specified pattern takes place\n",
        "* `count()` returns the number of times the specified pattern takes place"
      ],
      "metadata": {
        "id": "Ak8ZM1rtSPuu"
      },
      "id": "Ak8ZM1rtSPuu"
    },
    {
      "cell_type": "code",
      "source": [
        "print(\"strawberry\".find(\"berry\"))\n",
        "print(\"strawberry and blueberry\".count(\"berry\"))"
      ],
      "metadata": {
        "colab": {
          "base_uri": "https://localhost:8080/"
        },
        "id": "QFCGU9vQdtaJ",
        "outputId": "93435d6b-fe3f-4087-e039-473b82deac92"
      },
      "id": "QFCGU9vQdtaJ",
      "execution_count": null,
      "outputs": [
        {
          "output_type": "stream",
          "name": "stdout",
          "text": [
            "2\n"
          ]
        }
      ]
    },
    {
      "cell_type": "markdown",
      "source": [
        "* `find()` returns -1 for non-match"
      ],
      "metadata": {
        "id": "juvJiNx1GqK7"
      },
      "id": "juvJiNx1GqK7"
    },
    {
      "cell_type": "code",
      "source": [
        "print(\"strawberry\".find(\"better\"))\n",
        "print(\"strawberry\".count(\"better\"))"
      ],
      "metadata": {
        "colab": {
          "base_uri": "https://localhost:8080/"
        },
        "id": "MFsxrsoIdt3A",
        "outputId": "665b77af-70cc-4d34-a7c6-60ecb46078b7"
      },
      "id": "MFsxrsoIdt3A",
      "execution_count": null,
      "outputs": [
        {
          "output_type": "stream",
          "name": "stdout",
          "text": [
            "0\n"
          ]
        }
      ]
    },
    {
      "cell_type": "markdown",
      "source": [
        "* `find()` returns only the first match"
      ],
      "metadata": {
        "id": "r4g97kI82IOp"
      },
      "id": "r4g97kI82IOp"
    },
    {
      "cell_type": "code",
      "source": [
        "print(\"berryberrystrawberry\".find(\"berry\"))"
      ],
      "metadata": {
        "colab": {
          "base_uri": "https://localhost:8080/"
        },
        "id": "Yw5poIUPdwct",
        "outputId": "c1c0d7c7-4db1-4004-8155-a6d881a62e19"
      },
      "id": "Yw5poIUPdwct",
      "execution_count": null,
      "outputs": [
        {
          "output_type": "stream",
          "name": "stdout",
          "text": [
            "0\n"
          ]
        }
      ]
    },
    {
      "cell_type": "markdown",
      "source": [
        "* Let's read a list of 80 fruits"
      ],
      "metadata": {
        "id": "twlcGBK02NTx"
      },
      "id": "twlcGBK02NTx"
    },
    {
      "cell_type": "code",
      "source": [
        "import pandas as pd\n",
        "\n",
        "url = 'https://raw.githubusercontent.com/taegyoon-kim/programming_dhcss_23fw/main/week_14/fruit.txt'\n",
        "fruit = pd.read_csv(url, header = None)[0].to_list() # Series to list\n",
        "\n",
        "print(len(fruit))\n",
        "print(fruit)"
      ],
      "metadata": {
        "colab": {
          "base_uri": "https://localhost:8080/"
        },
        "id": "x-HcmM4ydxyz",
        "outputId": "849e452d-e578-4de8-809b-0c56d68a5cf5"
      },
      "id": "x-HcmM4ydxyz",
      "execution_count": null,
      "outputs": [
        {
          "output_type": "stream",
          "name": "stdout",
          "text": [
            "80\n",
            "['apple', 'apricot', 'avocado', 'banana', 'bell pepper', 'bilberry', 'blackberry', 'blackcurrant', 'blood orange', 'blueberry', 'boysenberry', 'breadfruit', 'canary melon', 'cantaloupe', 'cherimoya', 'cherry', 'chili pepper', 'clementine', 'cloudberry', 'coconut', 'cranberry', 'cucumber', 'currant', 'damson', 'date', 'dragonfruit', 'durian', 'eggplant', 'elderberry', 'feijoa', 'fig', 'goji berry', 'gooseberry', 'grape', 'grapefruit', 'guava', 'honeydew', 'huckleberry', 'jackfruit', 'jambul', 'jujube', 'kiwi fruit', 'kumquat', 'lemon', 'lime', 'loquat', 'lychee', 'mandarine', 'mango', 'mulberry', 'nectarine', 'nut', 'olive', 'orange', 'pamelo', 'papaya', 'passionfruit', 'peach', 'pear', 'persimmon', 'physalis', 'pineapple', 'plum', 'pomegranate', 'pomelo', 'purple mangosteen', 'quince', 'raisin', 'rambutan', 'raspberry', 'redcurrant', 'rock melon', 'salal berry', 'satsuma', 'star fruit', 'strawberry', 'tamarillo', 'tangerine', 'ugli fruit', 'watermelon']\n"
          ]
        }
      ]
    },
    {
      "cell_type": "markdown",
      "source": [
        "- Use list comprehension to extract matches"
      ],
      "metadata": {
        "id": "d5tr1LrJIqHe"
      },
      "id": "d5tr1LrJIqHe"
    },
    {
      "cell_type": "code",
      "source": [
        "[i for i in fruit if i.find(\"berry\") != -1] # find\n",
        "[i for i in fruit if i.count(\"berry\") > 0] # count"
      ],
      "metadata": {
        "colab": {
          "base_uri": "https://localhost:8080/"
        },
        "id": "BNie238pdzT_",
        "outputId": "73c1dd98-21cc-4f97-ab20-9ba6982fa8d7"
      },
      "id": "BNie238pdzT_",
      "execution_count": null,
      "outputs": [
        {
          "output_type": "execute_result",
          "data": {
            "text/plain": [
              "['bilberry',\n",
              " 'blackberry',\n",
              " 'blueberry',\n",
              " 'boysenberry',\n",
              " 'cloudberry',\n",
              " 'cranberry',\n",
              " 'elderberry',\n",
              " 'goji berry',\n",
              " 'gooseberry',\n",
              " 'huckleberry',\n",
              " 'mulberry',\n",
              " 'raspberry',\n",
              " 'salal berry',\n",
              " 'strawberry']"
            ]
          },
          "metadata": {},
          "execution_count": 39
        }
      ]
    },
    {
      "cell_type": "markdown",
      "source": [
        "### Import `re` module and search\n",
        "- Regex is a sequence of characters that forms a flexible search pattern\n",
        "- Can be used to check if a string contains the specified pattern"
      ],
      "metadata": {
        "id": "R19feqAFIv87"
      },
      "id": "R19feqAFIv87"
    },
    {
      "cell_type": "code",
      "source": [
        "import re\n",
        "mo = re.search(r'berry', 'strawberry.') # the prefix 'r' denotes raw string\n",
        "print(mo)\n",
        "print(type(mo)) # a match object"
      ],
      "metadata": {
        "colab": {
          "base_uri": "https://localhost:8080/"
        },
        "id": "GamBj_2Td0e5",
        "outputId": "4dd0a89d-2cbf-4c56-93fa-14d46d2689dc"
      },
      "id": "GamBj_2Td0e5",
      "execution_count": null,
      "outputs": [
        {
          "output_type": "stream",
          "name": "stdout",
          "text": [
            "<re.Match object; span=(5, 10), match='berry'>\n",
            "<class 're.Match'>\n"
          ]
        }
      ]
    },
    {
      "cell_type": "markdown",
      "source": [
        "* Escape with `\\` and denote raw string with `r`"
      ],
      "metadata": {
        "id": "tpzMYrkEc2kB"
      },
      "id": "tpzMYrkEc2kB"
    },
    {
      "cell_type": "code",
      "source": [
        "sent = 'NLP\\nTEXT' # \\n indicates a line space\n",
        "print(sent)\n",
        "\n",
        "sent_new = 'NLP\\\\nTEXT' # if we want a literal substring '\\n\\', we escape it\n",
        "print(sent_new)\n",
        "sent_new\n",
        "\n",
        "print('This is a backslash \\\\n character') # like here too"
      ],
      "metadata": {
        "colab": {
          "base_uri": "https://localhost:8080/",
          "height": 36
        },
        "id": "2bKz_GbtdLEm",
        "outputId": "6203d9b3-7401-4ac8-c8b5-90ca38949186"
      },
      "id": "2bKz_GbtdLEm",
      "execution_count": null,
      "outputs": [
        {
          "output_type": "execute_result",
          "data": {
            "text/plain": [
              "'NLP\\\\nTEXT'"
            ],
            "application/vnd.google.colaboratory.intrinsic+json": {
              "type": "string"
            }
          },
          "metadata": {},
          "execution_count": 47
        }
      ]
    },
    {
      "cell_type": "code",
      "source": [
        "result_without_r = re.search('\\\\n', 'This is a backslash \\\\n character')\n",
        "result_with_r = re.search(r'\\\\n', 'This is a backslash \\\\n character')\n",
        "\n",
        "print(result_without_r) # re.search returns None when there is no match\n",
        "print(result_with_r) # a literal match\n",
        "result_with_r.group()"
      ],
      "metadata": {
        "colab": {
          "base_uri": "https://localhost:8080/",
          "height": 72
        },
        "id": "AJiMUUKmcNHc",
        "outputId": "d302f113-9c8f-44f1-d70c-2b594785df84"
      },
      "id": "AJiMUUKmcNHc",
      "execution_count": null,
      "outputs": [
        {
          "output_type": "stream",
          "name": "stdout",
          "text": [
            "None\n",
            "<re.Match object; span=(20, 22), match='\\\\n'>\n"
          ]
        },
        {
          "output_type": "execute_result",
          "data": {
            "text/plain": [
              "'\\\\n'"
            ],
            "application/vnd.google.colaboratory.intrinsic+json": {
              "type": "string"
            }
          },
          "metadata": {},
          "execution_count": 49
        }
      ]
    },
    {
      "cell_type": "markdown",
      "source": [
        "- Extraction into a list\n"
      ],
      "metadata": {
        "id": "sWJj1AfAKJ4H"
      },
      "id": "sWJj1AfAKJ4H"
    },
    {
      "cell_type": "code",
      "source": [
        "mo = re.search(r'berry', 'strawberry.')\n",
        "\n",
        "print(mo)\n",
        "print(mo.group()) # returns the part of the string where there was a match\n",
        "print(mo.span()) # returns the related position\n",
        "\n",
        "berries = [i for i in fruit if re.search(r'berry', i)]\n",
        "print(berries)\n",
        "\n",
        "c = re.compile(r'berry') # *compile* the pattern into an object\n",
        "berries_compile = [i for i in fruit if c.search(i)]\n",
        "\n",
        "for i, j in zip(berries, berries_compile):\n",
        "  print(i == j)"
      ],
      "metadata": {
        "colab": {
          "base_uri": "https://localhost:8080/"
        },
        "id": "yooj3vKNd2LE",
        "outputId": "b8d00c66-7bfc-40a5-b323-9c0c79a12236"
      },
      "id": "yooj3vKNd2LE",
      "execution_count": null,
      "outputs": [
        {
          "output_type": "stream",
          "name": "stdout",
          "text": [
            "<re.Match object; span=(5, 10), match='berry'>\n",
            "berry\n",
            "(5, 10)\n",
            "['bilberry', 'blackberry', 'blueberry', 'boysenberry', 'cloudberry', 'cranberry', 'elderberry', 'goji berry', 'gooseberry', 'huckleberry', 'mulberry', 'raspberry', 'salal berry', 'strawberry']\n",
            "True\n",
            "True\n",
            "True\n",
            "True\n",
            "True\n",
            "True\n",
            "True\n",
            "True\n",
            "True\n",
            "True\n",
            "True\n",
            "True\n",
            "True\n",
            "True\n"
          ]
        }
      ]
    },
    {
      "cell_type": "markdown",
      "source": [
        "- Multiple matches"
      ],
      "metadata": {
        "id": "54ULCWLWKNCi"
      },
      "id": "54ULCWLWKNCi"
    },
    {
      "cell_type": "code",
      "source": [
        "mo_m = re.search(r'berry',\"berryberrystrawberry\")\n",
        "print(mo_m) # returns the first match\n",
        "\n",
        "mo_m2 = re.findall(r'berry',\"berryberrystrawberry\")\n",
        "print(mo_m2) # this is a list of strings\n",
        "\n",
        "mo_m3 = re.finditer(r'berry',\"berryberrystrawberry\")\n",
        "\n",
        "for i in mo_m3: # this returns an iterator\n",
        "  print(i)"
      ],
      "metadata": {
        "colab": {
          "base_uri": "https://localhost:8080/"
        },
        "id": "DMgKa-6Ud3f8",
        "outputId": "d385d52f-9a04-43c8-f0b6-efa5a54dc255"
      },
      "id": "DMgKa-6Ud3f8",
      "execution_count": null,
      "outputs": [
        {
          "output_type": "stream",
          "name": "stdout",
          "text": [
            "['berry', 'berry', 'berry']\n"
          ]
        }
      ]
    },
    {
      "cell_type": "code",
      "source": [
        "texts = ['Contact us at 123-456-7890 or 111-999-1842',\n",
        "         'Our phone number is 987-654-3210 (987-654-3211)',\n",
        "         'This text have no phone number',\n",
        "         'Reach out at 555-555-5555 for more information']\n",
        "\n",
        "phone_pattern = r'\\d{3}-\\d{3}-\\d{4}'\n",
        "phone_numbers = []\n",
        "\n",
        "for text in texts:\n",
        "    found_numbers = re.findall(phone_pattern, text) # raw text as r''\n",
        "    found_numbers = text.find(phone_pattern) # text itself\n",
        "    phone_numbers.append(found_numbers)\n",
        "\n",
        "print(phone_numbers)"
      ],
      "metadata": {
        "colab": {
          "base_uri": "https://localhost:8080/"
        },
        "id": "mewW8mQYVETm",
        "outputId": "d8156ddc-3cd2-45b5-da68-63c264aa67e0"
      },
      "id": "mewW8mQYVETm",
      "execution_count": null,
      "outputs": [
        {
          "output_type": "stream",
          "name": "stdout",
          "text": [
            "[-1, -1, -1, -1]\n"
          ]
        }
      ]
    },
    {
      "cell_type": "markdown",
      "source": [
        "### `[]` for multiple characters\n",
        "- Matches \"any one of\" the characters in `[]`\n",
        "- Read data first"
      ],
      "metadata": {
        "id": "Pbm69l0xKTnJ"
      },
      "id": "Pbm69l0xKTnJ"
    },
    {
      "cell_type": "code",
      "source": [
        "url = 'https://raw.githubusercontent.com/taegyoon-kim/programming_dhcss_23fw/main/week_14/sentences.txt'\n",
        "sentences = pd.read_csv(url, header = None, sep = '@')[0].to_list()\n",
        "print(len(sentences))\n",
        "print(sentences[0])"
      ],
      "metadata": {
        "colab": {
          "base_uri": "https://localhost:8080/"
        },
        "id": "46szfJosd46S",
        "outputId": "c93aa329-0771-4d42-d18a-d42bbae65bc9"
      },
      "id": "46szfJosd46S",
      "execution_count": null,
      "outputs": [
        {
          "output_type": "stream",
          "name": "stdout",
          "text": [
            "720\n",
            "The birch canoe slid on the smooth planks.\n"
          ]
        }
      ]
    },
    {
      "cell_type": "markdown",
      "source": [
        "\n",
        "\n",
        "-   For `beat`, `heat`, `peat`"
      ],
      "metadata": {
        "id": "U68MGDtYKjcU"
      },
      "id": "U68MGDtYKjcU"
    },
    {
      "cell_type": "code",
      "source": [
        "c = re.compile(r' [bhp]eat ')\n",
        "l_mo = [i for i in sentences if c.search(i)]\n",
        "\n",
        "for i in l_mo:\n",
        "  print(i)"
      ],
      "metadata": {
        "colab": {
          "base_uri": "https://localhost:8080/"
        },
        "id": "LEDHWFGhd6X0",
        "outputId": "ff464bce-3f87-4e5d-b8e2-2f7a6e4fdd5f"
      },
      "id": "LEDHWFGhd6X0",
      "execution_count": null,
      "outputs": [
        {
          "output_type": "stream",
          "name": "stdout",
          "text": [
            "The heart beat strongly and with firm strokes.\n",
            "Burn peat after the logs give out.\n",
            "Feel the heat of the weak dying flame.\n",
            "A speedy man can beat this track mark.\n",
            "Even the worst will beat his low score.\n",
            "It takes heat to bring out the odor.\n"
          ]
        }
      ]
    },
    {
      "cell_type": "markdown",
      "source": [
        "-   Use `-` to indicate a range of contiguous characters\n"
      ],
      "metadata": {
        "id": "pmwshUsjKnhR"
      },
      "id": "pmwshUsjKnhR"
    },
    {
      "cell_type": "code",
      "source": [
        "c = re.compile(r' [b-p]eat ') #bcdefghijklmn\n",
        "l_mo = [i for i in sentences if c.search(i)]\n",
        "\n",
        "for i in l_mo:\n",
        "  print(i)"
      ],
      "metadata": {
        "colab": {
          "base_uri": "https://localhost:8080/"
        },
        "id": "sN--SK6Ad7zN",
        "outputId": "2bdfc75a-1d71-45ef-8837-01ee2a798125"
      },
      "id": "sN--SK6Ad7zN",
      "execution_count": null,
      "outputs": [
        {
          "output_type": "stream",
          "name": "stdout",
          "text": [
            "The heart beat strongly and with firm strokes.\n",
            "Burn peat after the logs give out.\n",
            "Feel the heat of the weak dying flame.\n",
            "A speedy man can beat this track mark.\n",
            "Even the worst will beat his low score.\n",
            "Pack the records in a neat thin case.\n",
            "It takes heat to bring out the odor.\n",
            "A clean neck means a neat collar.\n"
          ]
        }
      ]
    },
    {
      "cell_type": "markdown",
      "source": [
        "-   Use `^` to Match anything but one of the characters in the square brackets"
      ],
      "metadata": {
        "id": "Rt4yF_H-KqvH"
      },
      "id": "Rt4yF_H-KqvH"
    },
    {
      "cell_type": "code",
      "source": [
        "c = re.compile(r' [^bhp]eat ')\n",
        "l_mo = [i for i in sentences if c.search(i)]\n",
        "\n",
        "for i in l_mo:\n",
        "  print(i)"
      ],
      "metadata": {
        "colab": {
          "base_uri": "https://localhost:8080/"
        },
        "id": "DHAqKcDdd88M",
        "outputId": "0b60a5a8-0fbc-42bb-dbe0-a0e7e0cad921"
      },
      "id": "DHAqKcDdd88M",
      "execution_count": null,
      "outputs": [
        {
          "output_type": "stream",
          "name": "stdout",
          "text": [
            "Pack the records in a neat thin case.\n",
            "A clean neck means a neat collar.\n"
          ]
        }
      ]
    },
    {
      "cell_type": "markdown",
      "source": [
        "### `|` over multi-character patterns\n",
        "\n",
        "-   `|` operator is for OR\n",
        "\n",
        "-   Parentheses can be used to indicate parts in the pattern"
      ],
      "metadata": {
        "id": "Y9RlJ_flMXyX"
      },
      "id": "Y9RlJ_flMXyX"
    },
    {
      "cell_type": "code",
      "source": [
        "c = re.compile(r'(black|blue|red)(currant|berry)')\n",
        "l_mo = [i for i in fruit if c.search(i)]\n",
        "l_mo"
      ],
      "metadata": {
        "colab": {
          "base_uri": "https://localhost:8080/"
        },
        "id": "t8TmYTK9eHIo",
        "outputId": "63189de7-485f-4638-c235-dab217859256"
      },
      "id": "t8TmYTK9eHIo",
      "execution_count": null,
      "outputs": [
        {
          "output_type": "execute_result",
          "data": {
            "text/plain": [
              "['blackberry', 'blackcurrant', 'blueberry', 'redcurrant']"
            ]
          },
          "metadata": {},
          "execution_count": 36
        }
      ]
    },
    {
      "cell_type": "markdown",
      "source": [
        "### The group() method\n",
        "\n",
        "* Used to access the parts of the string that match the various parts of the regular expression\n"
      ],
      "metadata": {
        "id": "089hyPOhMczS"
      },
      "id": "089hyPOhMczS"
    },
    {
      "cell_type": "code",
      "source": [
        "c = re.compile(r'(black|blue|red)(currant|berry)')\n",
        "mo = c.search('strawberry and blackberry')\n",
        "print(mo.group())\n",
        "print(mo.group(0))\n",
        "print(mo.group(1))\n",
        "print(mo.group(2))"
      ],
      "metadata": {
        "colab": {
          "base_uri": "https://localhost:8080/"
        },
        "id": "3thYl0sMeSlo",
        "outputId": "4e39e459-3406-4d5c-c649-c7b68a02f940"
      },
      "id": "3thYl0sMeSlo",
      "execution_count": null,
      "outputs": [
        {
          "output_type": "stream",
          "name": "stdout",
          "text": [
            "blackberry\n",
            "blackberry\n",
            "black\n",
            "berry\n"
          ]
        }
      ]
    },
    {
      "cell_type": "markdown",
      "source": [
        "### Special characters and the backslash\n",
        "\n",
        "-   Let's create a random example string"
      ],
      "metadata": {
        "id": "vfyDI_VsMfAJ"
      },
      "id": "vfyDI_VsMfAJ"
    },
    {
      "cell_type": "code",
      "source": [
        "eg_str = 'Example STRING, with numbers (12, 15 and also 10.2)?! Wow, two sentences.'"
      ],
      "metadata": {
        "id": "P6h7SkDQeUeM"
      },
      "id": "P6h7SkDQeUeM",
      "execution_count": null,
      "outputs": []
    },
    {
      "cell_type": "markdown",
      "source": [
        "-   There are several characters that have a special meaning in regex, and (may) have to be **escaped** in order to match the literal character\n",
        "-   They include `^`, `$`, `.`, `*`, `+`, `|`, `!`, `?`, `(`, `)`, `[`, `]`, `{`, `}`, `<`, and `>`"
      ],
      "metadata": {
        "id": "NoQ_xjZUMhys"
      },
      "id": "NoQ_xjZUMhys"
    },
    {
      "cell_type": "markdown",
      "source": [
        "-   For example, `.` means \"any character but a newline\"\n"
      ],
      "metadata": {
        "id": "g7-NnFiaMiV5"
      },
      "id": "g7-NnFiaMiV5"
    },
    {
      "cell_type": "code",
      "source": [
        "allchars = re.findall(r'.', eg_str) # . vs \\. (escaped)\n",
        "\n",
        "print(allchars)\n",
        "print(len(allchars) == len(eg_str))"
      ],
      "metadata": {
        "colab": {
          "base_uri": "https://localhost:8080/"
        },
        "id": "rMCoHouMeV0J",
        "outputId": "f4833164-cfe0-46eb-9ea6-c84116857160"
      },
      "id": "rMCoHouMeV0J",
      "execution_count": null,
      "outputs": [
        {
          "output_type": "stream",
          "name": "stdout",
          "text": [
            "['.', '.']\n",
            "False\n"
          ]
        }
      ]
    },
    {
      "cell_type": "code",
      "source": [
        "allperiods = re.findall(r'\\.', eg_str) # get the literal periods in the example\n",
        "\n",
        "print(allperiods)"
      ],
      "metadata": {
        "colab": {
          "base_uri": "https://localhost:8080/"
        },
        "id": "wKkxNtDVeW5I",
        "outputId": "19e68744-0404-4bae-a9f7-4480b1c4a67b"
      },
      "id": "wKkxNtDVeW5I",
      "execution_count": null,
      "outputs": [
        {
          "output_type": "stream",
          "name": "stdout",
          "text": [
            "['.', '.']\n"
          ]
        }
      ]
    },
    {
      "cell_type": "code",
      "source": [
        "print(eg_str) # just reprint it nearby\n",
        "\n",
        "matches = re.findall(r'a.', eg_str)\n",
        "print(matches)\n",
        "\n",
        "matches = re.findall(r'a\\.', eg_str)\n",
        "print(matches)"
      ],
      "metadata": {
        "colab": {
          "base_uri": "https://localhost:8080/"
        },
        "id": "-iLibPUMeYlL",
        "outputId": "8e727642-4cfa-4473-b88c-e78f9055c6d8"
      },
      "id": "-iLibPUMeYlL",
      "execution_count": null,
      "outputs": [
        {
          "output_type": "stream",
          "name": "stdout",
          "text": [
            "Example STRING, with numbers (12, 15 and also 10.2)?! Wow, two sentences.\n",
            "['am', 'an', 'al']\n",
            "[]\n"
          ]
        }
      ]
    },
    {
      "cell_type": "markdown",
      "source": [
        "Class shorthands\n",
        "\n",
        "-   \"\\\\w\" (any alphanumeric character), \"\\\\s\" (any space character), and \"\\\\d\" (any numeric digit)\n",
        "\n",
        "-   The capitalized versions of these are used to mean \"anything but\" that class"
      ],
      "metadata": {
        "id": "YfxsyabcMoCi"
      },
      "id": "YfxsyabcMoCi"
    },
    {
      "cell_type": "code",
      "source": [
        "print(eg_str) # just reprint it nearby\n",
        "\n",
        "matches = re.findall(r'\\w',eg_str) # any alphanumeric character\n",
        "print(matches)\n",
        "\n",
        "matches = re.findall(r'\\W',eg_str) # any non-alphanumeric character\n",
        "print(matches)"
      ],
      "metadata": {
        "colab": {
          "base_uri": "https://localhost:8080/"
        },
        "id": "LBWkXcKXeaW8",
        "outputId": "d5228fbf-91ee-4661-8770-4fe67cd607e4"
      },
      "id": "LBWkXcKXeaW8",
      "execution_count": null,
      "outputs": [
        {
          "output_type": "stream",
          "name": "stdout",
          "text": [
            "Example STRING, with numbers (12, 15 and also 10.2)?! Wow, two sentences.\n",
            "['E', 'x', 'a', 'm', 'p', 'l', 'e', 'S', 'T', 'R', 'I', 'N', 'G', 'w', 'i', 't', 'h', 'n', 'u', 'm', 'b', 'e', 'r', 's', '1', '2', '1', '5', 'a', 'n', 'd', 'a', 'l', 's', 'o', '1', '0', '2', 'W', 'o', 'w', 't', 'w', 'o', 's', 'e', 'n', 't', 'e', 'n', 'c', 'e', 's']\n",
            "[' ', ',', ' ', ' ', ' ', '(', ',', ' ', ' ', ' ', ' ', '.', ')', '?', '!', ' ', ',', ' ', ' ', '.']\n"
          ]
        }
      ]
    },
    {
      "cell_type": "code",
      "source": [
        "print(eg_str) # just reprint it nearby\n",
        "\n",
        "matches = re.findall(r'\\s', eg_str) # any whitespace character\n",
        "print(matches)\n",
        "\n",
        "matches = re.findall(r'\\S', eg_str) # any non-whitespace character\n",
        "print(matches)"
      ],
      "metadata": {
        "colab": {
          "base_uri": "https://localhost:8080/"
        },
        "id": "d_SNCTfMeb35",
        "outputId": "7d8e138e-e432-4216-d9a4-514b034051cb"
      },
      "id": "d_SNCTfMeb35",
      "execution_count": null,
      "outputs": [
        {
          "output_type": "stream",
          "name": "stdout",
          "text": [
            "Example STRING, with numbers (12, 15 and also 10.2)?! Wow, two sentences.\n",
            "[' ', ' ', ' ', ' ', ' ', ' ', ' ', ' ', ' ', ' ', ' ']\n",
            "['E', 'x', 'a', 'm', 'p', 'l', 'e', 'S', 'T', 'R', 'I', 'N', 'G', ',', 'w', 'i', 't', 'h', 'n', 'u', 'm', 'b', 'e', 'r', 's', '(', '1', '2', ',', '1', '5', 'a', 'n', 'd', 'a', 'l', 's', 'o', '1', '0', '.', '2', ')', '?', '!', 'W', 'o', 'w', ',', 't', 'w', 'o', 's', 'e', 'n', 't', 'e', 'n', 'c', 'e', 's', '.']\n"
          ]
        }
      ]
    },
    {
      "cell_type": "code",
      "source": [
        "print(eg_str) # just reprint it nearby\n",
        "\n",
        "matches = re.findall(r'\\d', eg_str) # any digit character\n",
        "print(matches)\n",
        "\n",
        "matches = re.findall(r'\\D', eg_str) # any non-digit character\n",
        "print(matches)"
      ],
      "metadata": {
        "colab": {
          "base_uri": "https://localhost:8080/"
        },
        "id": "3n3xRP7uedYX",
        "outputId": "9e26bd7b-4628-40c1-9536-1ac4ee9a17ae"
      },
      "id": "3n3xRP7uedYX",
      "execution_count": null,
      "outputs": [
        {
          "output_type": "stream",
          "name": "stdout",
          "text": [
            "['1', '2', '1', '5', '1', '0', '2']\n",
            "['E', 'x', 'a', 'm', 'p', 'l', 'e', ' ', 'S', 'T', 'R', 'I', 'N', 'G', ',', ' ', 'w', 'i', 't', 'h', ' ', 'n', 'u', 'm', 'b', 'e', 'r', 's', ' ', '(', ',', ' ', ' ', 'a', 'n', 'd', ' ', 'a', 'l', 's', 'o', ' ', '.', ')', '?', '!', ' ', 'W', 'o', 'w', ',', ' ', 't', 'w', 'o', ' ', 's', 'e', 'n', 't', 'e', 'n', 'c', 'e', 's', '.']\n"
          ]
        }
      ]
    },
    {
      "cell_type": "markdown",
      "source": [
        "### Quantifiers: \\* (zero or more of the previous)\n"
      ],
      "metadata": {
        "id": "yUTo_VZoNZYO"
      },
      "id": "yUTo_VZoNZYO"
    },
    {
      "cell_type": "code",
      "source": [
        "print(eg_str) # just reprint it nearby\n",
        "\n",
        "matches = re.findall('\\d*', eg_str) # any string of zero or more digits\n",
        "print(matches) # all the non-digit characters are matched as zero digit character"
      ],
      "metadata": {
        "colab": {
          "base_uri": "https://localhost:8080/"
        },
        "id": "W0NI9xJKeiZ3",
        "outputId": "07d42317-fb5a-4b60-aaaf-0f2cc9e03078"
      },
      "id": "W0NI9xJKeiZ3",
      "execution_count": null,
      "outputs": [
        {
          "output_type": "stream",
          "name": "stdout",
          "text": [
            "Example STRING, with numbers (12, 15 and also 10.2)?! Wow, two sentences.\n",
            "['', '', '', '', '', '', '', '', '', '', '', '', '', '', '', '', '', '', '', '', '', '', '', '', '', '', '', '', '', '', '12', '', '', '15', '', '', '', '', '', '', '', '', '', '', '10', '', '2', '', '', '', '', '', '', '', '', '', '', '', '', '', '', '', '', '', '', '', '', '', '', '', '']\n"
          ]
        }
      ]
    },
    {
      "cell_type": "markdown",
      "source": [
        "### Quantifiers: + (one or more of the previous)\n"
      ],
      "metadata": {
        "id": "Tk3ly88ZNf3a"
      },
      "id": "Tk3ly88ZNf3a"
    },
    {
      "cell_type": "code",
      "source": [
        "print(eg_str) # just reprint it nearby\n",
        "\n",
        "matches = re.findall('\\d+', eg_str) # any string of one or more digits\n",
        "print(matches)"
      ],
      "metadata": {
        "colab": {
          "base_uri": "https://localhost:8080/"
        },
        "id": "Xcs5HSKjeje3",
        "outputId": "1b676878-0b21-4187-a319-7de9e323b839"
      },
      "id": "Xcs5HSKjeje3",
      "execution_count": null,
      "outputs": [
        {
          "output_type": "stream",
          "name": "stdout",
          "text": [
            "Example STRING, with numbers (12, 15 and also 10.2)?! Wow, two sentences.\n",
            "['12', '15', '10', '2']\n"
          ]
        }
      ]
    },
    {
      "cell_type": "markdown",
      "source": [
        "### Quantifiers: {n} {n,m} and {n,}\n",
        "\n",
        "-   {n} = \"exactly n\" of the previous\n",
        "-   {n,m} = \"between n and m\" of the previous\n",
        "-   {n,} = \"n or more\" of the previous"
      ],
      "metadata": {
        "id": "w2XenafUNkZX"
      },
      "id": "w2XenafUNkZX"
    },
    {
      "cell_type": "code",
      "source": [
        "print(eg_str) # just reprint it nearby\n",
        "\n",
        "matches = re.findall(r'xy{1}','x xx xxy xxxx xxxxx') # 3 'x's\n",
        "print(matches)\n",
        "\n",
        "matches = re.findall(r'x{3,4}','x xx xxx xxxx xxxxx') # 3 or 4 'x's\n",
        "print(matches)\n",
        "\n",
        "matches = re.findall(r'x{3,}','x xx xxx xxxx xxxxx') # 3 or more 'x's\n",
        "print(matches)"
      ],
      "metadata": {
        "colab": {
          "base_uri": "https://localhost:8080/"
        },
        "id": "6c7xmUVlelax",
        "outputId": "45b65415-6cb8-4e91-d1d3-fb80c7f147ef"
      },
      "id": "6c7xmUVlelax",
      "execution_count": null,
      "outputs": [
        {
          "output_type": "stream",
          "name": "stdout",
          "text": [
            "Example STRING, with numbers (12, 15 and also 10.2)?! Wow, two sentences.\n",
            "['xy']\n",
            "['xxx', 'xxxx', 'xxxx']\n",
            "['xxx', 'xxxx', 'xxxxx']\n"
          ]
        }
      ]
    },
    {
      "cell_type": "markdown",
      "source": [
        "### Quantifiers: ? (zero or one of the previous)\n"
      ],
      "metadata": {
        "id": "FbhdDwoDNpBH"
      },
      "id": "FbhdDwoDNpBH"
    },
    {
      "cell_type": "code",
      "source": [
        "c = re.compile(r' [bp]?eat ')\n",
        "\n",
        "matches = [i for i in sentences if c.search(i)]\n",
        "print(matches)"
      ],
      "metadata": {
        "colab": {
          "base_uri": "https://localhost:8080/"
        },
        "id": "LCRX5jxv0v-Y",
        "outputId": "d09c33d7-53c2-42af-d3d7-2582a69da2eb"
      },
      "id": "LCRX5jxv0v-Y",
      "execution_count": null,
      "outputs": [
        {
          "output_type": "stream",
          "name": "stdout",
          "text": [
            "['The heart beat strongly and with firm strokes.', 'Burn peat after the logs give out.', 'A speedy man can beat this track mark.', 'Even the worst will beat his low score.', 'Quench your thirst, then eat the crackers.']\n"
          ]
        }
      ]
    },
    {
      "cell_type": "markdown",
      "source": [
        "### Quantifiers: `+`, `+?`\n",
        "\n",
        "-   `+` is a greedy quantifier that matches one or more of any character as many times as possible\n",
        "-   `+?` is a non-greedy quantifier that matches as few characters as possible"
      ],
      "metadata": {
        "id": "v2h0D70AN58d"
      },
      "id": "v2h0D70AN58d"
    },
    {
      "cell_type": "code",
      "source": [
        "matches = re.findall(r'\\(.+\\)', '(First bracketed statement) Other text (Second bracketed statement)')\n",
        "print(matches)\n",
        "\n",
        "matches = re.findall(r'\\(.+?\\)', '(First bracketed statement) Other text (Second bracketed statement)')\n",
        "print(matches)"
      ],
      "metadata": {
        "colab": {
          "base_uri": "https://localhost:8080/"
        },
        "id": "YP2jWG0J0xl6",
        "outputId": "03178181-5105-49f8-c6ad-9a4e2da528ec"
      },
      "id": "YP2jWG0J0xl6",
      "execution_count": null,
      "outputs": [
        {
          "output_type": "stream",
          "name": "stdout",
          "text": [
            "['(First bracketed statement) Other text (Second bracketed statement)']\n",
            "['(First bracketed statement)', '(Second bracketed statement)']\n"
          ]
        }
      ]
    },
    {
      "cell_type": "code",
      "source": [
        "matches = re.findall(r'x.+x','x xx xxx xxxx xxxxx') # as long as possible\n",
        "print(matches)\n",
        "\n",
        "matches = re.findall(r'x.+?x','x xx xxx xxxx xxxxx') # x x/x x/xx x,\n",
        "print(matches)"
      ],
      "metadata": {
        "colab": {
          "base_uri": "https://localhost:8080/"
        },
        "id": "etZVe1I700zx",
        "outputId": "b49270bb-0825-4be5-831a-3695f34949c4"
      },
      "id": "etZVe1I700zx",
      "execution_count": null,
      "outputs": [
        {
          "output_type": "stream",
          "name": "stdout",
          "text": [
            "['x xx xxx xxxx xxxxx']\n",
            "['x x', 'x x', 'xx x', 'xxx', 'xxx']\n"
          ]
        }
      ]
    }
  ],
  "metadata": {
    "kernelspec": {
      "display_name": "Python 3 (ipykernel)",
      "language": "python",
      "name": "python3"
    },
    "language_info": {
      "codemirror_mode": {
        "name": "ipython",
        "version": 3
      },
      "file_extension": ".py",
      "mimetype": "text/x-python",
      "name": "python",
      "nbconvert_exporter": "python",
      "pygments_lexer": "ipython3",
      "version": "3.10.9"
    },
    "varInspector": {
      "cols": {
        "lenName": 16,
        "lenType": 16,
        "lenVar": 40
      },
      "kernels_config": {
        "python": {
          "delete_cmd_postfix": "",
          "delete_cmd_prefix": "del ",
          "library": "var_list.py",
          "varRefreshCmd": "print(var_dic_list())"
        },
        "r": {
          "delete_cmd_postfix": ") ",
          "delete_cmd_prefix": "rm(",
          "library": "var_list.r",
          "varRefreshCmd": "cat(var_dic_list()) "
        }
      },
      "types_to_exclude": [
        "module",
        "function",
        "builtin_function_or_method",
        "instance",
        "_Feature"
      ],
      "window_display": false
    },
    "colab": {
      "provenance": [],
      "include_colab_link": true
    }
  },
  "nbformat": 4,
  "nbformat_minor": 5
}